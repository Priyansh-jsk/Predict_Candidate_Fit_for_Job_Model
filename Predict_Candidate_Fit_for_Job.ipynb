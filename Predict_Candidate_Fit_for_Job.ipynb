{
  "nbformat": 4,
  "nbformat_minor": 0,
  "metadata": {
    "colab": {
      "provenance": []
    },
    "kernelspec": {
      "name": "python3",
      "display_name": "Python 3"
    },
    "language_info": {
      "name": "python"
    },
    "widgets": {
      "application/vnd.jupyter.widget-state+json": {
        "dc06a77f626145c2a76ddfe5707a6c90": {
          "model_module": "@jupyter-widgets/controls",
          "model_name": "HBoxModel",
          "model_module_version": "1.5.0",
          "state": {
            "_dom_classes": [],
            "_model_module": "@jupyter-widgets/controls",
            "_model_module_version": "1.5.0",
            "_model_name": "HBoxModel",
            "_view_count": null,
            "_view_module": "@jupyter-widgets/controls",
            "_view_module_version": "1.5.0",
            "_view_name": "HBoxView",
            "box_style": "",
            "children": [
              "IPY_MODEL_77a45b1d81544c7bb99b3b90283b915b",
              "IPY_MODEL_ee630e6b423544d99a4e9a452c93da77",
              "IPY_MODEL_d19e56792c884639a078867b1236c5ed"
            ],
            "layout": "IPY_MODEL_98d52f861c6b4115a52e5e7bbe260510"
          }
        },
        "77a45b1d81544c7bb99b3b90283b915b": {
          "model_module": "@jupyter-widgets/controls",
          "model_name": "HTMLModel",
          "model_module_version": "1.5.0",
          "state": {
            "_dom_classes": [],
            "_model_module": "@jupyter-widgets/controls",
            "_model_module_version": "1.5.0",
            "_model_name": "HTMLModel",
            "_view_count": null,
            "_view_module": "@jupyter-widgets/controls",
            "_view_module_version": "1.5.0",
            "_view_name": "HTMLView",
            "description": "",
            "description_tooltip": null,
            "layout": "IPY_MODEL_1e0995b3a3a54275bafabf5c7ddeae0a",
            "placeholder": "​",
            "style": "IPY_MODEL_5ec999e2736d47449cedf2ece6abdb0e",
            "value": "Batches: 100%"
          }
        },
        "ee630e6b423544d99a4e9a452c93da77": {
          "model_module": "@jupyter-widgets/controls",
          "model_name": "FloatProgressModel",
          "model_module_version": "1.5.0",
          "state": {
            "_dom_classes": [],
            "_model_module": "@jupyter-widgets/controls",
            "_model_module_version": "1.5.0",
            "_model_name": "FloatProgressModel",
            "_view_count": null,
            "_view_module": "@jupyter-widgets/controls",
            "_view_module_version": "1.5.0",
            "_view_name": "ProgressView",
            "bar_style": "success",
            "description": "",
            "description_tooltip": null,
            "layout": "IPY_MODEL_d0d276045faf47189a1ed9628674927b",
            "max": 157,
            "min": 0,
            "orientation": "horizontal",
            "style": "IPY_MODEL_2d65c536818348018c3a43dafa50143f",
            "value": 157
          }
        },
        "d19e56792c884639a078867b1236c5ed": {
          "model_module": "@jupyter-widgets/controls",
          "model_name": "HTMLModel",
          "model_module_version": "1.5.0",
          "state": {
            "_dom_classes": [],
            "_model_module": "@jupyter-widgets/controls",
            "_model_module_version": "1.5.0",
            "_model_name": "HTMLModel",
            "_view_count": null,
            "_view_module": "@jupyter-widgets/controls",
            "_view_module_version": "1.5.0",
            "_view_name": "HTMLView",
            "description": "",
            "description_tooltip": null,
            "layout": "IPY_MODEL_e48bdb990c134da5891f761cf8c00835",
            "placeholder": "​",
            "style": "IPY_MODEL_3679d9d190d648fbbb6c92f79ec46a13",
            "value": " 157/157 [03:24&lt;00:00,  1.36it/s]"
          }
        },
        "98d52f861c6b4115a52e5e7bbe260510": {
          "model_module": "@jupyter-widgets/base",
          "model_name": "LayoutModel",
          "model_module_version": "1.2.0",
          "state": {
            "_model_module": "@jupyter-widgets/base",
            "_model_module_version": "1.2.0",
            "_model_name": "LayoutModel",
            "_view_count": null,
            "_view_module": "@jupyter-widgets/base",
            "_view_module_version": "1.2.0",
            "_view_name": "LayoutView",
            "align_content": null,
            "align_items": null,
            "align_self": null,
            "border": null,
            "bottom": null,
            "display": null,
            "flex": null,
            "flex_flow": null,
            "grid_area": null,
            "grid_auto_columns": null,
            "grid_auto_flow": null,
            "grid_auto_rows": null,
            "grid_column": null,
            "grid_gap": null,
            "grid_row": null,
            "grid_template_areas": null,
            "grid_template_columns": null,
            "grid_template_rows": null,
            "height": null,
            "justify_content": null,
            "justify_items": null,
            "left": null,
            "margin": null,
            "max_height": null,
            "max_width": null,
            "min_height": null,
            "min_width": null,
            "object_fit": null,
            "object_position": null,
            "order": null,
            "overflow": null,
            "overflow_x": null,
            "overflow_y": null,
            "padding": null,
            "right": null,
            "top": null,
            "visibility": null,
            "width": null
          }
        },
        "1e0995b3a3a54275bafabf5c7ddeae0a": {
          "model_module": "@jupyter-widgets/base",
          "model_name": "LayoutModel",
          "model_module_version": "1.2.0",
          "state": {
            "_model_module": "@jupyter-widgets/base",
            "_model_module_version": "1.2.0",
            "_model_name": "LayoutModel",
            "_view_count": null,
            "_view_module": "@jupyter-widgets/base",
            "_view_module_version": "1.2.0",
            "_view_name": "LayoutView",
            "align_content": null,
            "align_items": null,
            "align_self": null,
            "border": null,
            "bottom": null,
            "display": null,
            "flex": null,
            "flex_flow": null,
            "grid_area": null,
            "grid_auto_columns": null,
            "grid_auto_flow": null,
            "grid_auto_rows": null,
            "grid_column": null,
            "grid_gap": null,
            "grid_row": null,
            "grid_template_areas": null,
            "grid_template_columns": null,
            "grid_template_rows": null,
            "height": null,
            "justify_content": null,
            "justify_items": null,
            "left": null,
            "margin": null,
            "max_height": null,
            "max_width": null,
            "min_height": null,
            "min_width": null,
            "object_fit": null,
            "object_position": null,
            "order": null,
            "overflow": null,
            "overflow_x": null,
            "overflow_y": null,
            "padding": null,
            "right": null,
            "top": null,
            "visibility": null,
            "width": null
          }
        },
        "5ec999e2736d47449cedf2ece6abdb0e": {
          "model_module": "@jupyter-widgets/controls",
          "model_name": "DescriptionStyleModel",
          "model_module_version": "1.5.0",
          "state": {
            "_model_module": "@jupyter-widgets/controls",
            "_model_module_version": "1.5.0",
            "_model_name": "DescriptionStyleModel",
            "_view_count": null,
            "_view_module": "@jupyter-widgets/base",
            "_view_module_version": "1.2.0",
            "_view_name": "StyleView",
            "description_width": ""
          }
        },
        "d0d276045faf47189a1ed9628674927b": {
          "model_module": "@jupyter-widgets/base",
          "model_name": "LayoutModel",
          "model_module_version": "1.2.0",
          "state": {
            "_model_module": "@jupyter-widgets/base",
            "_model_module_version": "1.2.0",
            "_model_name": "LayoutModel",
            "_view_count": null,
            "_view_module": "@jupyter-widgets/base",
            "_view_module_version": "1.2.0",
            "_view_name": "LayoutView",
            "align_content": null,
            "align_items": null,
            "align_self": null,
            "border": null,
            "bottom": null,
            "display": null,
            "flex": null,
            "flex_flow": null,
            "grid_area": null,
            "grid_auto_columns": null,
            "grid_auto_flow": null,
            "grid_auto_rows": null,
            "grid_column": null,
            "grid_gap": null,
            "grid_row": null,
            "grid_template_areas": null,
            "grid_template_columns": null,
            "grid_template_rows": null,
            "height": null,
            "justify_content": null,
            "justify_items": null,
            "left": null,
            "margin": null,
            "max_height": null,
            "max_width": null,
            "min_height": null,
            "min_width": null,
            "object_fit": null,
            "object_position": null,
            "order": null,
            "overflow": null,
            "overflow_x": null,
            "overflow_y": null,
            "padding": null,
            "right": null,
            "top": null,
            "visibility": null,
            "width": null
          }
        },
        "2d65c536818348018c3a43dafa50143f": {
          "model_module": "@jupyter-widgets/controls",
          "model_name": "ProgressStyleModel",
          "model_module_version": "1.5.0",
          "state": {
            "_model_module": "@jupyter-widgets/controls",
            "_model_module_version": "1.5.0",
            "_model_name": "ProgressStyleModel",
            "_view_count": null,
            "_view_module": "@jupyter-widgets/base",
            "_view_module_version": "1.2.0",
            "_view_name": "StyleView",
            "bar_color": null,
            "description_width": ""
          }
        },
        "e48bdb990c134da5891f761cf8c00835": {
          "model_module": "@jupyter-widgets/base",
          "model_name": "LayoutModel",
          "model_module_version": "1.2.0",
          "state": {
            "_model_module": "@jupyter-widgets/base",
            "_model_module_version": "1.2.0",
            "_model_name": "LayoutModel",
            "_view_count": null,
            "_view_module": "@jupyter-widgets/base",
            "_view_module_version": "1.2.0",
            "_view_name": "LayoutView",
            "align_content": null,
            "align_items": null,
            "align_self": null,
            "border": null,
            "bottom": null,
            "display": null,
            "flex": null,
            "flex_flow": null,
            "grid_area": null,
            "grid_auto_columns": null,
            "grid_auto_flow": null,
            "grid_auto_rows": null,
            "grid_column": null,
            "grid_gap": null,
            "grid_row": null,
            "grid_template_areas": null,
            "grid_template_columns": null,
            "grid_template_rows": null,
            "height": null,
            "justify_content": null,
            "justify_items": null,
            "left": null,
            "margin": null,
            "max_height": null,
            "max_width": null,
            "min_height": null,
            "min_width": null,
            "object_fit": null,
            "object_position": null,
            "order": null,
            "overflow": null,
            "overflow_x": null,
            "overflow_y": null,
            "padding": null,
            "right": null,
            "top": null,
            "visibility": null,
            "width": null
          }
        },
        "3679d9d190d648fbbb6c92f79ec46a13": {
          "model_module": "@jupyter-widgets/controls",
          "model_name": "DescriptionStyleModel",
          "model_module_version": "1.5.0",
          "state": {
            "_model_module": "@jupyter-widgets/controls",
            "_model_module_version": "1.5.0",
            "_model_name": "DescriptionStyleModel",
            "_view_count": null,
            "_view_module": "@jupyter-widgets/base",
            "_view_module_version": "1.2.0",
            "_view_name": "StyleView",
            "description_width": ""
          }
        }
      }
    }
  },
  "cells": [
    {
      "cell_type": "code",
      "execution_count": 1,
      "metadata": {
        "id": "dDsWQPD7sO9H"
      },
      "outputs": [],
      "source": [
        "import pandas as pd\n",
        "import numpy as np\n",
        "from matplotlib import pyplot as plt\n",
        "import seaborn as sns\n",
        "import shap\n",
        "\n",
        "from sklearn.preprocessing import LabelEncoder, StandardScaler\n",
        "from sklearn.model_selection import train_test_split\n",
        "from sklearn.metrics import classification_report, accuracy_score\n",
        "from sentence_transformers import SentenceTransformer\n",
        "from sklearn.ensemble import RandomForestClassifier\n",
        "\n",
        "from xgboost import XGBClassifier\n",
        "from sklearn.linear_model import LogisticRegression"
      ]
    },
    {
      "cell_type": "code",
      "source": [
        "df = pd.read_csv(\"/content/ai_hiring_assignment_dataset.csv\")"
      ],
      "metadata": {
        "id": "VEzAIMW-semX"
      },
      "execution_count": 2,
      "outputs": []
    },
    {
      "cell_type": "code",
      "source": [
        "df.head()"
      ],
      "metadata": {
        "colab": {
          "base_uri": "https://localhost:8080/",
          "height": 486
        },
        "id": "BpQJNZEzs5lA",
        "outputId": "06a8f343-700d-4c42-b6ad-8c21f0560332"
      },
      "execution_count": 3,
      "outputs": [
        {
          "output_type": "execute_result",
          "data": {
            "text/plain": [
              "                                    candidate_skills  years_experience  \\\n",
              "0      Node.js, AWS, Python, SQL, NLP, Deep Learning                 6   \n",
              "1                TensorFlow, React, Machine Learning                 2   \n",
              "2                    Kubernetes, Python, Pandas, AWS                11   \n",
              "3                           TensorFlow, Pandas, Java                 7   \n",
              "4  Python, React, Docker, SQL, Data Analysis, Dee...                12   \n",
              "\n",
              "  education_level                       past_job_titles  \\\n",
              "0     High School  Backend Engineer, Software Developer   \n",
              "1        Master's                           ML Engineer   \n",
              "2     High School         Backend Engineer, ML Engineer   \n",
              "3        Master's                      Backend Engineer   \n",
              "4      Bachelor's                    Software Developer   \n",
              "\n",
              "                certifications  expected_salary candidate_location  \\\n",
              "0        Google ML Certificate           129409           New York   \n",
              "1                 Coursera NLP           113724             Austin   \n",
              "2  AWS Certified, Coursera NLP            67692           New York   \n",
              "3   AWS Certified, DataCamp DS            52242            Seattle   \n",
              "4           Coursera NLP, None           120550             Remote   \n",
              "\n",
              "          job_title                                    required_skills  \\\n",
              "0     AI Researcher  Data Analysis, Deep Learning, React, Docker, Java   \n",
              "1  Backend Engineer    Deep Learning, Pandas, Data Analysis, Java, NLP   \n",
              "2     AI Researcher           SQL, React, Java, Kubernetes, TensorFlow   \n",
              "3  Backend Engineer            Deep Learning, Machine Learning, Docker   \n",
              "4       ML Engineer      Pandas, Kubernetes, Data Analysis, React, NLP   \n",
              "\n",
              "   min_experience                                    job_description  \\\n",
              "0               0  Looking for a motivated individual with strong...   \n",
              "1               1  Looking for a motivated individual with strong...   \n",
              "2               6  Looking for a motivated individual with strong...   \n",
              "3               0  Looking for a motivated individual with strong...   \n",
              "4               9  Looking for a motivated individual with strong...   \n",
              "\n",
              "   budgeted_salary_min  budgeted_salary_max   job_location  is_fit  \n",
              "0                81174               141383         Remote       0  \n",
              "1                64098               115875         Remote       0  \n",
              "2                76658               105418  San Francisco       0  \n",
              "3                68814               132259         Austin       0  \n",
              "4                65110               141471         Remote       1  "
            ],
            "text/html": [
              "\n",
              "  <div id=\"df-8fe77dd7-eb86-4c7f-bb66-ccd8ccabec44\" class=\"colab-df-container\">\n",
              "    <div>\n",
              "<style scoped>\n",
              "    .dataframe tbody tr th:only-of-type {\n",
              "        vertical-align: middle;\n",
              "    }\n",
              "\n",
              "    .dataframe tbody tr th {\n",
              "        vertical-align: top;\n",
              "    }\n",
              "\n",
              "    .dataframe thead th {\n",
              "        text-align: right;\n",
              "    }\n",
              "</style>\n",
              "<table border=\"1\" class=\"dataframe\">\n",
              "  <thead>\n",
              "    <tr style=\"text-align: right;\">\n",
              "      <th></th>\n",
              "      <th>candidate_skills</th>\n",
              "      <th>years_experience</th>\n",
              "      <th>education_level</th>\n",
              "      <th>past_job_titles</th>\n",
              "      <th>certifications</th>\n",
              "      <th>expected_salary</th>\n",
              "      <th>candidate_location</th>\n",
              "      <th>job_title</th>\n",
              "      <th>required_skills</th>\n",
              "      <th>min_experience</th>\n",
              "      <th>job_description</th>\n",
              "      <th>budgeted_salary_min</th>\n",
              "      <th>budgeted_salary_max</th>\n",
              "      <th>job_location</th>\n",
              "      <th>is_fit</th>\n",
              "    </tr>\n",
              "  </thead>\n",
              "  <tbody>\n",
              "    <tr>\n",
              "      <th>0</th>\n",
              "      <td>Node.js, AWS, Python, SQL, NLP, Deep Learning</td>\n",
              "      <td>6</td>\n",
              "      <td>High School</td>\n",
              "      <td>Backend Engineer, Software Developer</td>\n",
              "      <td>Google ML Certificate</td>\n",
              "      <td>129409</td>\n",
              "      <td>New York</td>\n",
              "      <td>AI Researcher</td>\n",
              "      <td>Data Analysis, Deep Learning, React, Docker, Java</td>\n",
              "      <td>0</td>\n",
              "      <td>Looking for a motivated individual with strong...</td>\n",
              "      <td>81174</td>\n",
              "      <td>141383</td>\n",
              "      <td>Remote</td>\n",
              "      <td>0</td>\n",
              "    </tr>\n",
              "    <tr>\n",
              "      <th>1</th>\n",
              "      <td>TensorFlow, React, Machine Learning</td>\n",
              "      <td>2</td>\n",
              "      <td>Master's</td>\n",
              "      <td>ML Engineer</td>\n",
              "      <td>Coursera NLP</td>\n",
              "      <td>113724</td>\n",
              "      <td>Austin</td>\n",
              "      <td>Backend Engineer</td>\n",
              "      <td>Deep Learning, Pandas, Data Analysis, Java, NLP</td>\n",
              "      <td>1</td>\n",
              "      <td>Looking for a motivated individual with strong...</td>\n",
              "      <td>64098</td>\n",
              "      <td>115875</td>\n",
              "      <td>Remote</td>\n",
              "      <td>0</td>\n",
              "    </tr>\n",
              "    <tr>\n",
              "      <th>2</th>\n",
              "      <td>Kubernetes, Python, Pandas, AWS</td>\n",
              "      <td>11</td>\n",
              "      <td>High School</td>\n",
              "      <td>Backend Engineer, ML Engineer</td>\n",
              "      <td>AWS Certified, Coursera NLP</td>\n",
              "      <td>67692</td>\n",
              "      <td>New York</td>\n",
              "      <td>AI Researcher</td>\n",
              "      <td>SQL, React, Java, Kubernetes, TensorFlow</td>\n",
              "      <td>6</td>\n",
              "      <td>Looking for a motivated individual with strong...</td>\n",
              "      <td>76658</td>\n",
              "      <td>105418</td>\n",
              "      <td>San Francisco</td>\n",
              "      <td>0</td>\n",
              "    </tr>\n",
              "    <tr>\n",
              "      <th>3</th>\n",
              "      <td>TensorFlow, Pandas, Java</td>\n",
              "      <td>7</td>\n",
              "      <td>Master's</td>\n",
              "      <td>Backend Engineer</td>\n",
              "      <td>AWS Certified, DataCamp DS</td>\n",
              "      <td>52242</td>\n",
              "      <td>Seattle</td>\n",
              "      <td>Backend Engineer</td>\n",
              "      <td>Deep Learning, Machine Learning, Docker</td>\n",
              "      <td>0</td>\n",
              "      <td>Looking for a motivated individual with strong...</td>\n",
              "      <td>68814</td>\n",
              "      <td>132259</td>\n",
              "      <td>Austin</td>\n",
              "      <td>0</td>\n",
              "    </tr>\n",
              "    <tr>\n",
              "      <th>4</th>\n",
              "      <td>Python, React, Docker, SQL, Data Analysis, Dee...</td>\n",
              "      <td>12</td>\n",
              "      <td>Bachelor's</td>\n",
              "      <td>Software Developer</td>\n",
              "      <td>Coursera NLP, None</td>\n",
              "      <td>120550</td>\n",
              "      <td>Remote</td>\n",
              "      <td>ML Engineer</td>\n",
              "      <td>Pandas, Kubernetes, Data Analysis, React, NLP</td>\n",
              "      <td>9</td>\n",
              "      <td>Looking for a motivated individual with strong...</td>\n",
              "      <td>65110</td>\n",
              "      <td>141471</td>\n",
              "      <td>Remote</td>\n",
              "      <td>1</td>\n",
              "    </tr>\n",
              "  </tbody>\n",
              "</table>\n",
              "</div>\n",
              "    <div class=\"colab-df-buttons\">\n",
              "\n",
              "  <div class=\"colab-df-container\">\n",
              "    <button class=\"colab-df-convert\" onclick=\"convertToInteractive('df-8fe77dd7-eb86-4c7f-bb66-ccd8ccabec44')\"\n",
              "            title=\"Convert this dataframe to an interactive table.\"\n",
              "            style=\"display:none;\">\n",
              "\n",
              "  <svg xmlns=\"http://www.w3.org/2000/svg\" height=\"24px\" viewBox=\"0 -960 960 960\">\n",
              "    <path d=\"M120-120v-720h720v720H120Zm60-500h600v-160H180v160Zm220 220h160v-160H400v160Zm0 220h160v-160H400v160ZM180-400h160v-160H180v160Zm440 0h160v-160H620v160ZM180-180h160v-160H180v160Zm440 0h160v-160H620v160Z\"/>\n",
              "  </svg>\n",
              "    </button>\n",
              "\n",
              "  <style>\n",
              "    .colab-df-container {\n",
              "      display:flex;\n",
              "      gap: 12px;\n",
              "    }\n",
              "\n",
              "    .colab-df-convert {\n",
              "      background-color: #E8F0FE;\n",
              "      border: none;\n",
              "      border-radius: 50%;\n",
              "      cursor: pointer;\n",
              "      display: none;\n",
              "      fill: #1967D2;\n",
              "      height: 32px;\n",
              "      padding: 0 0 0 0;\n",
              "      width: 32px;\n",
              "    }\n",
              "\n",
              "    .colab-df-convert:hover {\n",
              "      background-color: #E2EBFA;\n",
              "      box-shadow: 0px 1px 2px rgba(60, 64, 67, 0.3), 0px 1px 3px 1px rgba(60, 64, 67, 0.15);\n",
              "      fill: #174EA6;\n",
              "    }\n",
              "\n",
              "    .colab-df-buttons div {\n",
              "      margin-bottom: 4px;\n",
              "    }\n",
              "\n",
              "    [theme=dark] .colab-df-convert {\n",
              "      background-color: #3B4455;\n",
              "      fill: #D2E3FC;\n",
              "    }\n",
              "\n",
              "    [theme=dark] .colab-df-convert:hover {\n",
              "      background-color: #434B5C;\n",
              "      box-shadow: 0px 1px 3px 1px rgba(0, 0, 0, 0.15);\n",
              "      filter: drop-shadow(0px 1px 2px rgba(0, 0, 0, 0.3));\n",
              "      fill: #FFFFFF;\n",
              "    }\n",
              "  </style>\n",
              "\n",
              "    <script>\n",
              "      const buttonEl =\n",
              "        document.querySelector('#df-8fe77dd7-eb86-4c7f-bb66-ccd8ccabec44 button.colab-df-convert');\n",
              "      buttonEl.style.display =\n",
              "        google.colab.kernel.accessAllowed ? 'block' : 'none';\n",
              "\n",
              "      async function convertToInteractive(key) {\n",
              "        const element = document.querySelector('#df-8fe77dd7-eb86-4c7f-bb66-ccd8ccabec44');\n",
              "        const dataTable =\n",
              "          await google.colab.kernel.invokeFunction('convertToInteractive',\n",
              "                                                    [key], {});\n",
              "        if (!dataTable) return;\n",
              "\n",
              "        const docLinkHtml = 'Like what you see? Visit the ' +\n",
              "          '<a target=\"_blank\" href=https://colab.research.google.com/notebooks/data_table.ipynb>data table notebook</a>'\n",
              "          + ' to learn more about interactive tables.';\n",
              "        element.innerHTML = '';\n",
              "        dataTable['output_type'] = 'display_data';\n",
              "        await google.colab.output.renderOutput(dataTable, element);\n",
              "        const docLink = document.createElement('div');\n",
              "        docLink.innerHTML = docLinkHtml;\n",
              "        element.appendChild(docLink);\n",
              "      }\n",
              "    </script>\n",
              "  </div>\n",
              "\n",
              "\n",
              "    <div id=\"df-f9fefb13-b31a-41a1-be4a-25f0ece9ba0e\">\n",
              "      <button class=\"colab-df-quickchart\" onclick=\"quickchart('df-f9fefb13-b31a-41a1-be4a-25f0ece9ba0e')\"\n",
              "                title=\"Suggest charts\"\n",
              "                style=\"display:none;\">\n",
              "\n",
              "<svg xmlns=\"http://www.w3.org/2000/svg\" height=\"24px\"viewBox=\"0 0 24 24\"\n",
              "     width=\"24px\">\n",
              "    <g>\n",
              "        <path d=\"M19 3H5c-1.1 0-2 .9-2 2v14c0 1.1.9 2 2 2h14c1.1 0 2-.9 2-2V5c0-1.1-.9-2-2-2zM9 17H7v-7h2v7zm4 0h-2V7h2v10zm4 0h-2v-4h2v4z\"/>\n",
              "    </g>\n",
              "</svg>\n",
              "      </button>\n",
              "\n",
              "<style>\n",
              "  .colab-df-quickchart {\n",
              "      --bg-color: #E8F0FE;\n",
              "      --fill-color: #1967D2;\n",
              "      --hover-bg-color: #E2EBFA;\n",
              "      --hover-fill-color: #174EA6;\n",
              "      --disabled-fill-color: #AAA;\n",
              "      --disabled-bg-color: #DDD;\n",
              "  }\n",
              "\n",
              "  [theme=dark] .colab-df-quickchart {\n",
              "      --bg-color: #3B4455;\n",
              "      --fill-color: #D2E3FC;\n",
              "      --hover-bg-color: #434B5C;\n",
              "      --hover-fill-color: #FFFFFF;\n",
              "      --disabled-bg-color: #3B4455;\n",
              "      --disabled-fill-color: #666;\n",
              "  }\n",
              "\n",
              "  .colab-df-quickchart {\n",
              "    background-color: var(--bg-color);\n",
              "    border: none;\n",
              "    border-radius: 50%;\n",
              "    cursor: pointer;\n",
              "    display: none;\n",
              "    fill: var(--fill-color);\n",
              "    height: 32px;\n",
              "    padding: 0;\n",
              "    width: 32px;\n",
              "  }\n",
              "\n",
              "  .colab-df-quickchart:hover {\n",
              "    background-color: var(--hover-bg-color);\n",
              "    box-shadow: 0 1px 2px rgba(60, 64, 67, 0.3), 0 1px 3px 1px rgba(60, 64, 67, 0.15);\n",
              "    fill: var(--button-hover-fill-color);\n",
              "  }\n",
              "\n",
              "  .colab-df-quickchart-complete:disabled,\n",
              "  .colab-df-quickchart-complete:disabled:hover {\n",
              "    background-color: var(--disabled-bg-color);\n",
              "    fill: var(--disabled-fill-color);\n",
              "    box-shadow: none;\n",
              "  }\n",
              "\n",
              "  .colab-df-spinner {\n",
              "    border: 2px solid var(--fill-color);\n",
              "    border-color: transparent;\n",
              "    border-bottom-color: var(--fill-color);\n",
              "    animation:\n",
              "      spin 1s steps(1) infinite;\n",
              "  }\n",
              "\n",
              "  @keyframes spin {\n",
              "    0% {\n",
              "      border-color: transparent;\n",
              "      border-bottom-color: var(--fill-color);\n",
              "      border-left-color: var(--fill-color);\n",
              "    }\n",
              "    20% {\n",
              "      border-color: transparent;\n",
              "      border-left-color: var(--fill-color);\n",
              "      border-top-color: var(--fill-color);\n",
              "    }\n",
              "    30% {\n",
              "      border-color: transparent;\n",
              "      border-left-color: var(--fill-color);\n",
              "      border-top-color: var(--fill-color);\n",
              "      border-right-color: var(--fill-color);\n",
              "    }\n",
              "    40% {\n",
              "      border-color: transparent;\n",
              "      border-right-color: var(--fill-color);\n",
              "      border-top-color: var(--fill-color);\n",
              "    }\n",
              "    60% {\n",
              "      border-color: transparent;\n",
              "      border-right-color: var(--fill-color);\n",
              "    }\n",
              "    80% {\n",
              "      border-color: transparent;\n",
              "      border-right-color: var(--fill-color);\n",
              "      border-bottom-color: var(--fill-color);\n",
              "    }\n",
              "    90% {\n",
              "      border-color: transparent;\n",
              "      border-bottom-color: var(--fill-color);\n",
              "    }\n",
              "  }\n",
              "</style>\n",
              "\n",
              "      <script>\n",
              "        async function quickchart(key) {\n",
              "          const quickchartButtonEl =\n",
              "            document.querySelector('#' + key + ' button');\n",
              "          quickchartButtonEl.disabled = true;  // To prevent multiple clicks.\n",
              "          quickchartButtonEl.classList.add('colab-df-spinner');\n",
              "          try {\n",
              "            const charts = await google.colab.kernel.invokeFunction(\n",
              "                'suggestCharts', [key], {});\n",
              "          } catch (error) {\n",
              "            console.error('Error during call to suggestCharts:', error);\n",
              "          }\n",
              "          quickchartButtonEl.classList.remove('colab-df-spinner');\n",
              "          quickchartButtonEl.classList.add('colab-df-quickchart-complete');\n",
              "        }\n",
              "        (() => {\n",
              "          let quickchartButtonEl =\n",
              "            document.querySelector('#df-f9fefb13-b31a-41a1-be4a-25f0ece9ba0e button');\n",
              "          quickchartButtonEl.style.display =\n",
              "            google.colab.kernel.accessAllowed ? 'block' : 'none';\n",
              "        })();\n",
              "      </script>\n",
              "    </div>\n",
              "\n",
              "    </div>\n",
              "  </div>\n"
            ],
            "application/vnd.google.colaboratory.intrinsic+json": {
              "type": "dataframe",
              "variable_name": "df",
              "summary": "{\n  \"name\": \"df\",\n  \"rows\": 5000,\n  \"fields\": [\n    {\n      \"column\": \"candidate_skills\",\n      \"properties\": {\n        \"dtype\": \"string\",\n        \"num_unique_values\": 4696,\n        \"samples\": [\n          \"Docker, Pandas, React, Java\",\n          \"NLP, AWS, React, Deep Learning, Pandas, TensorFlow\",\n          \"Java, SQL, Deep Learning, TensorFlow, Kubernetes\"\n        ],\n        \"semantic_type\": \"\",\n        \"description\": \"\"\n      }\n    },\n    {\n      \"column\": \"years_experience\",\n      \"properties\": {\n        \"dtype\": \"number\",\n        \"std\": 3,\n        \"min\": 0,\n        \"max\": 12,\n        \"num_unique_values\": 13,\n        \"samples\": [\n          8,\n          4,\n          6\n        ],\n        \"semantic_type\": \"\",\n        \"description\": \"\"\n      }\n    },\n    {\n      \"column\": \"education_level\",\n      \"properties\": {\n        \"dtype\": \"category\",\n        \"num_unique_values\": 4,\n        \"samples\": [\n          \"Master's\",\n          \"PhD\",\n          \"High School\"\n        ],\n        \"semantic_type\": \"\",\n        \"description\": \"\"\n      }\n    },\n    {\n      \"column\": \"past_job_titles\",\n      \"properties\": {\n        \"dtype\": \"category\",\n        \"num_unique_values\": 25,\n        \"samples\": [\n          \"Data Scientist\",\n          \"AI Researcher, ML Engineer\",\n          \"Backend Engineer, Software Developer\"\n        ],\n        \"semantic_type\": \"\",\n        \"description\": \"\"\n      }\n    },\n    {\n      \"column\": \"certifications\",\n      \"properties\": {\n        \"dtype\": \"category\",\n        \"num_unique_values\": 24,\n        \"samples\": [\n          \"None, DataCamp DS\",\n          \"Google ML Certificate, Coursera NLP\",\n          \"Google ML Certificate\"\n        ],\n        \"semantic_type\": \"\",\n        \"description\": \"\"\n      }\n    },\n    {\n      \"column\": \"expected_salary\",\n      \"properties\": {\n        \"dtype\": \"number\",\n        \"std\": 28887,\n        \"min\": 50004,\n        \"max\": 149969,\n        \"num_unique_values\": 4876,\n        \"samples\": [\n          109041,\n          57885,\n          83008\n        ],\n        \"semantic_type\": \"\",\n        \"description\": \"\"\n      }\n    },\n    {\n      \"column\": \"candidate_location\",\n      \"properties\": {\n        \"dtype\": \"category\",\n        \"num_unique_values\": 5,\n        \"samples\": [\n          \"Austin\",\n          \"San Francisco\",\n          \"Seattle\"\n        ],\n        \"semantic_type\": \"\",\n        \"description\": \"\"\n      }\n    },\n    {\n      \"column\": \"job_title\",\n      \"properties\": {\n        \"dtype\": \"category\",\n        \"num_unique_values\": 5,\n        \"samples\": [\n          \"Backend Engineer\",\n          \"Data Scientist\",\n          \"ML Engineer\"\n        ],\n        \"semantic_type\": \"\",\n        \"description\": \"\"\n      }\n    },\n    {\n      \"column\": \"required_skills\",\n      \"properties\": {\n        \"dtype\": \"string\",\n        \"num_unique_values\": 4417,\n        \"samples\": [\n          \"Kubernetes, Deep Learning, TensorFlow\",\n          \"Pandas, TensorFlow, Deep Learning, NLP, Node.js\",\n          \"AWS, Kubernetes, React, Docker\"\n        ],\n        \"semantic_type\": \"\",\n        \"description\": \"\"\n      }\n    },\n    {\n      \"column\": \"min_experience\",\n      \"properties\": {\n        \"dtype\": \"number\",\n        \"std\": 3,\n        \"min\": 0,\n        \"max\": 10,\n        \"num_unique_values\": 11,\n        \"samples\": [\n          2,\n          0,\n          7\n        ],\n        \"semantic_type\": \"\",\n        \"description\": \"\"\n      }\n    },\n    {\n      \"column\": \"job_description\",\n      \"properties\": {\n        \"dtype\": \"category\",\n        \"num_unique_values\": 1,\n        \"samples\": [\n          \"Looking for a motivated individual with strong technical and problem-solving skills.\"\n        ],\n        \"semantic_type\": \"\",\n        \"description\": \"\"\n      }\n    },\n    {\n      \"column\": \"budgeted_salary_min\",\n      \"properties\": {\n        \"dtype\": \"number\",\n        \"std\": 11471,\n        \"min\": 60004,\n        \"max\": 99990,\n        \"num_unique_values\": 4668,\n        \"samples\": [\n          75123\n        ],\n        \"semantic_type\": \"\",\n        \"description\": \"\"\n      }\n    },\n    {\n      \"column\": \"budgeted_salary_max\",\n      \"properties\": {\n        \"dtype\": \"number\",\n        \"std\": 17298,\n        \"min\": 100070,\n        \"max\": 159995,\n        \"num_unique_values\": 4797,\n        \"samples\": [\n          159084\n        ],\n        \"semantic_type\": \"\",\n        \"description\": \"\"\n      }\n    },\n    {\n      \"column\": \"job_location\",\n      \"properties\": {\n        \"dtype\": \"category\",\n        \"num_unique_values\": 5,\n        \"samples\": [\n          \"San Francisco\"\n        ],\n        \"semantic_type\": \"\",\n        \"description\": \"\"\n      }\n    },\n    {\n      \"column\": \"is_fit\",\n      \"properties\": {\n        \"dtype\": \"number\",\n        \"std\": 0,\n        \"min\": 0,\n        \"max\": 1,\n        \"num_unique_values\": 2,\n        \"samples\": [\n          1\n        ],\n        \"semantic_type\": \"\",\n        \"description\": \"\"\n      }\n    }\n  ]\n}"
            }
          },
          "metadata": {},
          "execution_count": 3
        }
      ]
    },
    {
      "cell_type": "code",
      "source": [
        "df.shape"
      ],
      "metadata": {
        "colab": {
          "base_uri": "https://localhost:8080/"
        },
        "id": "zR_wgeGnU3_t",
        "outputId": "5f81038e-6226-494a-f8c6-73f1297e8053"
      },
      "execution_count": 4,
      "outputs": [
        {
          "output_type": "execute_result",
          "data": {
            "text/plain": [
              "(5000, 15)"
            ]
          },
          "metadata": {},
          "execution_count": 4
        }
      ]
    },
    {
      "cell_type": "code",
      "source": [
        "df.columns"
      ],
      "metadata": {
        "colab": {
          "base_uri": "https://localhost:8080/"
        },
        "id": "dbI3NJSTU52E",
        "outputId": "a773697f-c4c0-4ec8-f96f-f6fd06bc3712"
      },
      "execution_count": 5,
      "outputs": [
        {
          "output_type": "execute_result",
          "data": {
            "text/plain": [
              "Index(['candidate_skills', 'years_experience', 'education_level',\n",
              "       'past_job_titles', 'certifications', 'expected_salary',\n",
              "       'candidate_location', 'job_title', 'required_skills', 'min_experience',\n",
              "       'job_description', 'budgeted_salary_min', 'budgeted_salary_max',\n",
              "       'job_location', 'is_fit'],\n",
              "      dtype='object')"
            ]
          },
          "metadata": {},
          "execution_count": 5
        }
      ]
    },
    {
      "cell_type": "code",
      "source": [
        "df[\"job_title\"].nunique()"
      ],
      "metadata": {
        "colab": {
          "base_uri": "https://localhost:8080/"
        },
        "id": "chxV9r2Zz2ad",
        "outputId": "2270b6ba-8dfd-4c5e-aa72-79571b92fee0"
      },
      "execution_count": 6,
      "outputs": [
        {
          "output_type": "execute_result",
          "data": {
            "text/plain": [
              "5"
            ]
          },
          "metadata": {},
          "execution_count": 6
        }
      ]
    },
    {
      "cell_type": "code",
      "source": [
        "df.isnull().sum()"
      ],
      "metadata": {
        "colab": {
          "base_uri": "https://localhost:8080/",
          "height": 554
        },
        "id": "fC1WavZbs5ip",
        "outputId": "894ed1d5-f38c-480f-e0db-94fb17e97e87"
      },
      "execution_count": 7,
      "outputs": [
        {
          "output_type": "execute_result",
          "data": {
            "text/plain": [
              "candidate_skills         0\n",
              "years_experience         0\n",
              "education_level          0\n",
              "past_job_titles          0\n",
              "certifications         525\n",
              "expected_salary          0\n",
              "candidate_location       0\n",
              "job_title                0\n",
              "required_skills          0\n",
              "min_experience           0\n",
              "job_description          0\n",
              "budgeted_salary_min      0\n",
              "budgeted_salary_max      0\n",
              "job_location             0\n",
              "is_fit                   0\n",
              "dtype: int64"
            ],
            "text/html": [
              "<div>\n",
              "<style scoped>\n",
              "    .dataframe tbody tr th:only-of-type {\n",
              "        vertical-align: middle;\n",
              "    }\n",
              "\n",
              "    .dataframe tbody tr th {\n",
              "        vertical-align: top;\n",
              "    }\n",
              "\n",
              "    .dataframe thead th {\n",
              "        text-align: right;\n",
              "    }\n",
              "</style>\n",
              "<table border=\"1\" class=\"dataframe\">\n",
              "  <thead>\n",
              "    <tr style=\"text-align: right;\">\n",
              "      <th></th>\n",
              "      <th>0</th>\n",
              "    </tr>\n",
              "  </thead>\n",
              "  <tbody>\n",
              "    <tr>\n",
              "      <th>candidate_skills</th>\n",
              "      <td>0</td>\n",
              "    </tr>\n",
              "    <tr>\n",
              "      <th>years_experience</th>\n",
              "      <td>0</td>\n",
              "    </tr>\n",
              "    <tr>\n",
              "      <th>education_level</th>\n",
              "      <td>0</td>\n",
              "    </tr>\n",
              "    <tr>\n",
              "      <th>past_job_titles</th>\n",
              "      <td>0</td>\n",
              "    </tr>\n",
              "    <tr>\n",
              "      <th>certifications</th>\n",
              "      <td>525</td>\n",
              "    </tr>\n",
              "    <tr>\n",
              "      <th>expected_salary</th>\n",
              "      <td>0</td>\n",
              "    </tr>\n",
              "    <tr>\n",
              "      <th>candidate_location</th>\n",
              "      <td>0</td>\n",
              "    </tr>\n",
              "    <tr>\n",
              "      <th>job_title</th>\n",
              "      <td>0</td>\n",
              "    </tr>\n",
              "    <tr>\n",
              "      <th>required_skills</th>\n",
              "      <td>0</td>\n",
              "    </tr>\n",
              "    <tr>\n",
              "      <th>min_experience</th>\n",
              "      <td>0</td>\n",
              "    </tr>\n",
              "    <tr>\n",
              "      <th>job_description</th>\n",
              "      <td>0</td>\n",
              "    </tr>\n",
              "    <tr>\n",
              "      <th>budgeted_salary_min</th>\n",
              "      <td>0</td>\n",
              "    </tr>\n",
              "    <tr>\n",
              "      <th>budgeted_salary_max</th>\n",
              "      <td>0</td>\n",
              "    </tr>\n",
              "    <tr>\n",
              "      <th>job_location</th>\n",
              "      <td>0</td>\n",
              "    </tr>\n",
              "    <tr>\n",
              "      <th>is_fit</th>\n",
              "      <td>0</td>\n",
              "    </tr>\n",
              "  </tbody>\n",
              "</table>\n",
              "</div><br><label><b>dtype:</b> int64</label>"
            ]
          },
          "metadata": {},
          "execution_count": 7
        }
      ]
    },
    {
      "cell_type": "markdown",
      "source": [
        "Handling null values, certification col.."
      ],
      "metadata": {
        "id": "u1Co-HwhT9hX"
      }
    },
    {
      "cell_type": "code",
      "source": [
        "df['certifications'] = df['certifications'].fillna('No Certifications')"
      ],
      "metadata": {
        "id": "CTjSjiiCUAHU"
      },
      "execution_count": 8,
      "outputs": []
    },
    {
      "cell_type": "code",
      "source": [
        "df.info()"
      ],
      "metadata": {
        "colab": {
          "base_uri": "https://localhost:8080/"
        },
        "id": "7DUlJE7iU1YD",
        "outputId": "ebf3660c-367f-48b9-f724-d16dcf4514bb"
      },
      "execution_count": 9,
      "outputs": [
        {
          "output_type": "stream",
          "name": "stdout",
          "text": [
            "<class 'pandas.core.frame.DataFrame'>\n",
            "RangeIndex: 5000 entries, 0 to 4999\n",
            "Data columns (total 15 columns):\n",
            " #   Column               Non-Null Count  Dtype \n",
            "---  ------               --------------  ----- \n",
            " 0   candidate_skills     5000 non-null   object\n",
            " 1   years_experience     5000 non-null   int64 \n",
            " 2   education_level      5000 non-null   object\n",
            " 3   past_job_titles      5000 non-null   object\n",
            " 4   certifications       5000 non-null   object\n",
            " 5   expected_salary      5000 non-null   int64 \n",
            " 6   candidate_location   5000 non-null   object\n",
            " 7   job_title            5000 non-null   object\n",
            " 8   required_skills      5000 non-null   object\n",
            " 9   min_experience       5000 non-null   int64 \n",
            " 10  job_description      5000 non-null   object\n",
            " 11  budgeted_salary_min  5000 non-null   int64 \n",
            " 12  budgeted_salary_max  5000 non-null   int64 \n",
            " 13  job_location         5000 non-null   object\n",
            " 14  is_fit               5000 non-null   int64 \n",
            "dtypes: int64(6), object(9)\n",
            "memory usage: 586.1+ KB\n"
          ]
        }
      ]
    },
    {
      "cell_type": "markdown",
      "source": [
        " Feature engineering.."
      ],
      "metadata": {
        "id": "M3Z9V7TNyxJx"
      }
    },
    {
      "cell_type": "code",
      "source": [
        "def preprocess_skills(text):\n",
        "  return set(map(str.strip, text.lower().split(',')))"
      ],
      "metadata": {
        "id": "rRbvyAiEs5dg"
      },
      "execution_count": 10,
      "outputs": []
    },
    {
      "cell_type": "code",
      "source": [
        "df[['candidate_skills_set', 'required_skills_set']] = df[['candidate_skills', 'required_skills']].applymap(preprocess_skills)"
      ],
      "metadata": {
        "colab": {
          "base_uri": "https://localhost:8080/"
        },
        "id": "nUMM0Yf0XSuX",
        "outputId": "ed8d66f5-713e-4dfa-a1ce-b756801e27fd"
      },
      "execution_count": 11,
      "outputs": [
        {
          "output_type": "stream",
          "name": "stderr",
          "text": [
            "/tmp/ipython-input-11-4033204910.py:1: FutureWarning: DataFrame.applymap has been deprecated. Use DataFrame.map instead.\n",
            "  df[['candidate_skills_set', 'required_skills_set']] = df[['candidate_skills', 'required_skills']].applymap(preprocess_skills)\n"
          ]
        }
      ]
    },
    {
      "cell_type": "code",
      "source": [
        "df[['candidate_skills_set', 'required_skills_set']]"
      ],
      "metadata": {
        "colab": {
          "base_uri": "https://localhost:8080/",
          "height": 423
        },
        "id": "rmHlqeLEXiKl",
        "outputId": "02dddf57-c6ad-4dd2-dc7e-50efb88dc873"
      },
      "execution_count": 12,
      "outputs": [
        {
          "output_type": "execute_result",
          "data": {
            "text/plain": [
              "                                   candidate_skills_set  \\\n",
              "0       {sql, nlp, node.js, deep learning, aws, python}   \n",
              "1                 {tensorflow, react, machine learning}   \n",
              "2                     {aws, python, pandas, kubernetes}   \n",
              "3                            {tensorflow, java, pandas}   \n",
              "4     {sql, data analysis, docker, deep learning, re...   \n",
              "...                                                 ...   \n",
              "4995  {java, deep learning, pandas, react, data anal...   \n",
              "4996  {java, nlp, deep learning, pandas, python, kub...   \n",
              "4997                 {java, sql, pandas, react, python}   \n",
              "4998  {tensorflow, sql, machine learning, nlp, data ...   \n",
              "4999            {java, data analysis, machine learning}   \n",
              "\n",
              "                                    required_skills_set  \n",
              "0     {java, docker, deep learning, react, data anal...  \n",
              "1     {java, nlp, deep learning, pandas, data analysis}  \n",
              "2            {tensorflow, java, sql, react, kubernetes}  \n",
              "3             {deep learning, docker, machine learning}  \n",
              "4       {nlp, pandas, react, data analysis, kubernetes}  \n",
              "...                                                 ...  \n",
              "4995           {deep learning, sql, kubernetes, docker}  \n",
              "4996                {deep learning, data analysis, sql}  \n",
              "4997           {nlp, data analysis, kubernetes, docker}  \n",
              "4998                 {java, data analysis, pandas, aws}  \n",
              "4999                     {kubernetes, python, sql, aws}  \n",
              "\n",
              "[5000 rows x 2 columns]"
            ],
            "text/html": [
              "\n",
              "  <div id=\"df-b1e184f7-5315-4d99-a3ac-e397fbb0dd79\" class=\"colab-df-container\">\n",
              "    <div>\n",
              "<style scoped>\n",
              "    .dataframe tbody tr th:only-of-type {\n",
              "        vertical-align: middle;\n",
              "    }\n",
              "\n",
              "    .dataframe tbody tr th {\n",
              "        vertical-align: top;\n",
              "    }\n",
              "\n",
              "    .dataframe thead th {\n",
              "        text-align: right;\n",
              "    }\n",
              "</style>\n",
              "<table border=\"1\" class=\"dataframe\">\n",
              "  <thead>\n",
              "    <tr style=\"text-align: right;\">\n",
              "      <th></th>\n",
              "      <th>candidate_skills_set</th>\n",
              "      <th>required_skills_set</th>\n",
              "    </tr>\n",
              "  </thead>\n",
              "  <tbody>\n",
              "    <tr>\n",
              "      <th>0</th>\n",
              "      <td>{sql, nlp, node.js, deep learning, aws, python}</td>\n",
              "      <td>{java, docker, deep learning, react, data anal...</td>\n",
              "    </tr>\n",
              "    <tr>\n",
              "      <th>1</th>\n",
              "      <td>{tensorflow, react, machine learning}</td>\n",
              "      <td>{java, nlp, deep learning, pandas, data analysis}</td>\n",
              "    </tr>\n",
              "    <tr>\n",
              "      <th>2</th>\n",
              "      <td>{aws, python, pandas, kubernetes}</td>\n",
              "      <td>{tensorflow, java, sql, react, kubernetes}</td>\n",
              "    </tr>\n",
              "    <tr>\n",
              "      <th>3</th>\n",
              "      <td>{tensorflow, java, pandas}</td>\n",
              "      <td>{deep learning, docker, machine learning}</td>\n",
              "    </tr>\n",
              "    <tr>\n",
              "      <th>4</th>\n",
              "      <td>{sql, data analysis, docker, deep learning, re...</td>\n",
              "      <td>{nlp, pandas, react, data analysis, kubernetes}</td>\n",
              "    </tr>\n",
              "    <tr>\n",
              "      <th>...</th>\n",
              "      <td>...</td>\n",
              "      <td>...</td>\n",
              "    </tr>\n",
              "    <tr>\n",
              "      <th>4995</th>\n",
              "      <td>{java, deep learning, pandas, react, data anal...</td>\n",
              "      <td>{deep learning, sql, kubernetes, docker}</td>\n",
              "    </tr>\n",
              "    <tr>\n",
              "      <th>4996</th>\n",
              "      <td>{java, nlp, deep learning, pandas, python, kub...</td>\n",
              "      <td>{deep learning, data analysis, sql}</td>\n",
              "    </tr>\n",
              "    <tr>\n",
              "      <th>4997</th>\n",
              "      <td>{java, sql, pandas, react, python}</td>\n",
              "      <td>{nlp, data analysis, kubernetes, docker}</td>\n",
              "    </tr>\n",
              "    <tr>\n",
              "      <th>4998</th>\n",
              "      <td>{tensorflow, sql, machine learning, nlp, data ...</td>\n",
              "      <td>{java, data analysis, pandas, aws}</td>\n",
              "    </tr>\n",
              "    <tr>\n",
              "      <th>4999</th>\n",
              "      <td>{java, data analysis, machine learning}</td>\n",
              "      <td>{kubernetes, python, sql, aws}</td>\n",
              "    </tr>\n",
              "  </tbody>\n",
              "</table>\n",
              "<p>5000 rows × 2 columns</p>\n",
              "</div>\n",
              "    <div class=\"colab-df-buttons\">\n",
              "\n",
              "  <div class=\"colab-df-container\">\n",
              "    <button class=\"colab-df-convert\" onclick=\"convertToInteractive('df-b1e184f7-5315-4d99-a3ac-e397fbb0dd79')\"\n",
              "            title=\"Convert this dataframe to an interactive table.\"\n",
              "            style=\"display:none;\">\n",
              "\n",
              "  <svg xmlns=\"http://www.w3.org/2000/svg\" height=\"24px\" viewBox=\"0 -960 960 960\">\n",
              "    <path d=\"M120-120v-720h720v720H120Zm60-500h600v-160H180v160Zm220 220h160v-160H400v160Zm0 220h160v-160H400v160ZM180-400h160v-160H180v160Zm440 0h160v-160H620v160ZM180-180h160v-160H180v160Zm440 0h160v-160H620v160Z\"/>\n",
              "  </svg>\n",
              "    </button>\n",
              "\n",
              "  <style>\n",
              "    .colab-df-container {\n",
              "      display:flex;\n",
              "      gap: 12px;\n",
              "    }\n",
              "\n",
              "    .colab-df-convert {\n",
              "      background-color: #E8F0FE;\n",
              "      border: none;\n",
              "      border-radius: 50%;\n",
              "      cursor: pointer;\n",
              "      display: none;\n",
              "      fill: #1967D2;\n",
              "      height: 32px;\n",
              "      padding: 0 0 0 0;\n",
              "      width: 32px;\n",
              "    }\n",
              "\n",
              "    .colab-df-convert:hover {\n",
              "      background-color: #E2EBFA;\n",
              "      box-shadow: 0px 1px 2px rgba(60, 64, 67, 0.3), 0px 1px 3px 1px rgba(60, 64, 67, 0.15);\n",
              "      fill: #174EA6;\n",
              "    }\n",
              "\n",
              "    .colab-df-buttons div {\n",
              "      margin-bottom: 4px;\n",
              "    }\n",
              "\n",
              "    [theme=dark] .colab-df-convert {\n",
              "      background-color: #3B4455;\n",
              "      fill: #D2E3FC;\n",
              "    }\n",
              "\n",
              "    [theme=dark] .colab-df-convert:hover {\n",
              "      background-color: #434B5C;\n",
              "      box-shadow: 0px 1px 3px 1px rgba(0, 0, 0, 0.15);\n",
              "      filter: drop-shadow(0px 1px 2px rgba(0, 0, 0, 0.3));\n",
              "      fill: #FFFFFF;\n",
              "    }\n",
              "  </style>\n",
              "\n",
              "    <script>\n",
              "      const buttonEl =\n",
              "        document.querySelector('#df-b1e184f7-5315-4d99-a3ac-e397fbb0dd79 button.colab-df-convert');\n",
              "      buttonEl.style.display =\n",
              "        google.colab.kernel.accessAllowed ? 'block' : 'none';\n",
              "\n",
              "      async function convertToInteractive(key) {\n",
              "        const element = document.querySelector('#df-b1e184f7-5315-4d99-a3ac-e397fbb0dd79');\n",
              "        const dataTable =\n",
              "          await google.colab.kernel.invokeFunction('convertToInteractive',\n",
              "                                                    [key], {});\n",
              "        if (!dataTable) return;\n",
              "\n",
              "        const docLinkHtml = 'Like what you see? Visit the ' +\n",
              "          '<a target=\"_blank\" href=https://colab.research.google.com/notebooks/data_table.ipynb>data table notebook</a>'\n",
              "          + ' to learn more about interactive tables.';\n",
              "        element.innerHTML = '';\n",
              "        dataTable['output_type'] = 'display_data';\n",
              "        await google.colab.output.renderOutput(dataTable, element);\n",
              "        const docLink = document.createElement('div');\n",
              "        docLink.innerHTML = docLinkHtml;\n",
              "        element.appendChild(docLink);\n",
              "      }\n",
              "    </script>\n",
              "  </div>\n",
              "\n",
              "\n",
              "    <div id=\"df-9e2903b8-b5b8-4d31-885d-f8a218d41a14\">\n",
              "      <button class=\"colab-df-quickchart\" onclick=\"quickchart('df-9e2903b8-b5b8-4d31-885d-f8a218d41a14')\"\n",
              "                title=\"Suggest charts\"\n",
              "                style=\"display:none;\">\n",
              "\n",
              "<svg xmlns=\"http://www.w3.org/2000/svg\" height=\"24px\"viewBox=\"0 0 24 24\"\n",
              "     width=\"24px\">\n",
              "    <g>\n",
              "        <path d=\"M19 3H5c-1.1 0-2 .9-2 2v14c0 1.1.9 2 2 2h14c1.1 0 2-.9 2-2V5c0-1.1-.9-2-2-2zM9 17H7v-7h2v7zm4 0h-2V7h2v10zm4 0h-2v-4h2v4z\"/>\n",
              "    </g>\n",
              "</svg>\n",
              "      </button>\n",
              "\n",
              "<style>\n",
              "  .colab-df-quickchart {\n",
              "      --bg-color: #E8F0FE;\n",
              "      --fill-color: #1967D2;\n",
              "      --hover-bg-color: #E2EBFA;\n",
              "      --hover-fill-color: #174EA6;\n",
              "      --disabled-fill-color: #AAA;\n",
              "      --disabled-bg-color: #DDD;\n",
              "  }\n",
              "\n",
              "  [theme=dark] .colab-df-quickchart {\n",
              "      --bg-color: #3B4455;\n",
              "      --fill-color: #D2E3FC;\n",
              "      --hover-bg-color: #434B5C;\n",
              "      --hover-fill-color: #FFFFFF;\n",
              "      --disabled-bg-color: #3B4455;\n",
              "      --disabled-fill-color: #666;\n",
              "  }\n",
              "\n",
              "  .colab-df-quickchart {\n",
              "    background-color: var(--bg-color);\n",
              "    border: none;\n",
              "    border-radius: 50%;\n",
              "    cursor: pointer;\n",
              "    display: none;\n",
              "    fill: var(--fill-color);\n",
              "    height: 32px;\n",
              "    padding: 0;\n",
              "    width: 32px;\n",
              "  }\n",
              "\n",
              "  .colab-df-quickchart:hover {\n",
              "    background-color: var(--hover-bg-color);\n",
              "    box-shadow: 0 1px 2px rgba(60, 64, 67, 0.3), 0 1px 3px 1px rgba(60, 64, 67, 0.15);\n",
              "    fill: var(--button-hover-fill-color);\n",
              "  }\n",
              "\n",
              "  .colab-df-quickchart-complete:disabled,\n",
              "  .colab-df-quickchart-complete:disabled:hover {\n",
              "    background-color: var(--disabled-bg-color);\n",
              "    fill: var(--disabled-fill-color);\n",
              "    box-shadow: none;\n",
              "  }\n",
              "\n",
              "  .colab-df-spinner {\n",
              "    border: 2px solid var(--fill-color);\n",
              "    border-color: transparent;\n",
              "    border-bottom-color: var(--fill-color);\n",
              "    animation:\n",
              "      spin 1s steps(1) infinite;\n",
              "  }\n",
              "\n",
              "  @keyframes spin {\n",
              "    0% {\n",
              "      border-color: transparent;\n",
              "      border-bottom-color: var(--fill-color);\n",
              "      border-left-color: var(--fill-color);\n",
              "    }\n",
              "    20% {\n",
              "      border-color: transparent;\n",
              "      border-left-color: var(--fill-color);\n",
              "      border-top-color: var(--fill-color);\n",
              "    }\n",
              "    30% {\n",
              "      border-color: transparent;\n",
              "      border-left-color: var(--fill-color);\n",
              "      border-top-color: var(--fill-color);\n",
              "      border-right-color: var(--fill-color);\n",
              "    }\n",
              "    40% {\n",
              "      border-color: transparent;\n",
              "      border-right-color: var(--fill-color);\n",
              "      border-top-color: var(--fill-color);\n",
              "    }\n",
              "    60% {\n",
              "      border-color: transparent;\n",
              "      border-right-color: var(--fill-color);\n",
              "    }\n",
              "    80% {\n",
              "      border-color: transparent;\n",
              "      border-right-color: var(--fill-color);\n",
              "      border-bottom-color: var(--fill-color);\n",
              "    }\n",
              "    90% {\n",
              "      border-color: transparent;\n",
              "      border-bottom-color: var(--fill-color);\n",
              "    }\n",
              "  }\n",
              "</style>\n",
              "\n",
              "      <script>\n",
              "        async function quickchart(key) {\n",
              "          const quickchartButtonEl =\n",
              "            document.querySelector('#' + key + ' button');\n",
              "          quickchartButtonEl.disabled = true;  // To prevent multiple clicks.\n",
              "          quickchartButtonEl.classList.add('colab-df-spinner');\n",
              "          try {\n",
              "            const charts = await google.colab.kernel.invokeFunction(\n",
              "                'suggestCharts', [key], {});\n",
              "          } catch (error) {\n",
              "            console.error('Error during call to suggestCharts:', error);\n",
              "          }\n",
              "          quickchartButtonEl.classList.remove('colab-df-spinner');\n",
              "          quickchartButtonEl.classList.add('colab-df-quickchart-complete');\n",
              "        }\n",
              "        (() => {\n",
              "          let quickchartButtonEl =\n",
              "            document.querySelector('#df-9e2903b8-b5b8-4d31-885d-f8a218d41a14 button');\n",
              "          quickchartButtonEl.style.display =\n",
              "            google.colab.kernel.accessAllowed ? 'block' : 'none';\n",
              "        })();\n",
              "      </script>\n",
              "    </div>\n",
              "\n",
              "    </div>\n",
              "  </div>\n"
            ],
            "application/vnd.google.colaboratory.intrinsic+json": {
              "type": "dataframe",
              "summary": "{\n  \"name\": \"df[['candidate_skills_set', 'required_skills_set']]\",\n  \"rows\": 5000,\n  \"fields\": [\n    {\n      \"column\": \"candidate_skills_set\",\n      \"properties\": {\n        \"dtype\": \"object\",\n        \"semantic_type\": \"\",\n        \"description\": \"\"\n      }\n    },\n    {\n      \"column\": \"required_skills_set\",\n      \"properties\": {\n        \"dtype\": \"object\",\n        \"semantic_type\": \"\",\n        \"description\": \"\"\n      }\n    }\n  ]\n}"
            }
          },
          "metadata": {},
          "execution_count": 12
        }
      ]
    },
    {
      "cell_type": "code",
      "source": [
        "df['skill_match'] = df.apply(lambda x: len(x['candidate_skills_set'] & x['required_skills_set']) / max(len(x['required_skills_set']), 1), axis=1)"
      ],
      "metadata": {
        "id": "FqaNklAfs5WZ"
      },
      "execution_count": 13,
      "outputs": []
    },
    {
      "cell_type": "code",
      "source": [
        "df['skill_match'].head()"
      ],
      "metadata": {
        "colab": {
          "base_uri": "https://localhost:8080/",
          "height": 241
        },
        "id": "J8o1cQ4mzbpw",
        "outputId": "c284917e-a50a-42b7-fa71-76edcc4677c8"
      },
      "execution_count": 14,
      "outputs": [
        {
          "output_type": "execute_result",
          "data": {
            "text/plain": [
              "0    0.2\n",
              "1    0.0\n",
              "2    0.2\n",
              "3    0.0\n",
              "4    0.4\n",
              "Name: skill_match, dtype: float64"
            ],
            "text/html": [
              "<div>\n",
              "<style scoped>\n",
              "    .dataframe tbody tr th:only-of-type {\n",
              "        vertical-align: middle;\n",
              "    }\n",
              "\n",
              "    .dataframe tbody tr th {\n",
              "        vertical-align: top;\n",
              "    }\n",
              "\n",
              "    .dataframe thead th {\n",
              "        text-align: right;\n",
              "    }\n",
              "</style>\n",
              "<table border=\"1\" class=\"dataframe\">\n",
              "  <thead>\n",
              "    <tr style=\"text-align: right;\">\n",
              "      <th></th>\n",
              "      <th>skill_match</th>\n",
              "    </tr>\n",
              "  </thead>\n",
              "  <tbody>\n",
              "    <tr>\n",
              "      <th>0</th>\n",
              "      <td>0.2</td>\n",
              "    </tr>\n",
              "    <tr>\n",
              "      <th>1</th>\n",
              "      <td>0.0</td>\n",
              "    </tr>\n",
              "    <tr>\n",
              "      <th>2</th>\n",
              "      <td>0.2</td>\n",
              "    </tr>\n",
              "    <tr>\n",
              "      <th>3</th>\n",
              "      <td>0.0</td>\n",
              "    </tr>\n",
              "    <tr>\n",
              "      <th>4</th>\n",
              "      <td>0.4</td>\n",
              "    </tr>\n",
              "  </tbody>\n",
              "</table>\n",
              "</div><br><label><b>dtype:</b> float64</label>"
            ]
          },
          "metadata": {},
          "execution_count": 14
        }
      ]
    },
    {
      "cell_type": "code",
      "source": [
        "df['experience_diff'] = df['years_experience'] - df['min_experience']"
      ],
      "metadata": {
        "id": "U4mRQ-JxytWB"
      },
      "execution_count": 15,
      "outputs": []
    },
    {
      "cell_type": "code",
      "source": [
        "df['experience_diff'].head()"
      ],
      "metadata": {
        "colab": {
          "base_uri": "https://localhost:8080/",
          "height": 241
        },
        "id": "dx8X71QoytUQ",
        "outputId": "bbb82c2c-b50f-4611-e74e-96d720bcc3cd"
      },
      "execution_count": 16,
      "outputs": [
        {
          "output_type": "execute_result",
          "data": {
            "text/plain": [
              "0    6\n",
              "1    1\n",
              "2    5\n",
              "3    7\n",
              "4    3\n",
              "Name: experience_diff, dtype: int64"
            ],
            "text/html": [
              "<div>\n",
              "<style scoped>\n",
              "    .dataframe tbody tr th:only-of-type {\n",
              "        vertical-align: middle;\n",
              "    }\n",
              "\n",
              "    .dataframe tbody tr th {\n",
              "        vertical-align: top;\n",
              "    }\n",
              "\n",
              "    .dataframe thead th {\n",
              "        text-align: right;\n",
              "    }\n",
              "</style>\n",
              "<table border=\"1\" class=\"dataframe\">\n",
              "  <thead>\n",
              "    <tr style=\"text-align: right;\">\n",
              "      <th></th>\n",
              "      <th>experience_diff</th>\n",
              "    </tr>\n",
              "  </thead>\n",
              "  <tbody>\n",
              "    <tr>\n",
              "      <th>0</th>\n",
              "      <td>6</td>\n",
              "    </tr>\n",
              "    <tr>\n",
              "      <th>1</th>\n",
              "      <td>1</td>\n",
              "    </tr>\n",
              "    <tr>\n",
              "      <th>2</th>\n",
              "      <td>5</td>\n",
              "    </tr>\n",
              "    <tr>\n",
              "      <th>3</th>\n",
              "      <td>7</td>\n",
              "    </tr>\n",
              "    <tr>\n",
              "      <th>4</th>\n",
              "      <td>3</td>\n",
              "    </tr>\n",
              "  </tbody>\n",
              "</table>\n",
              "</div><br><label><b>dtype:</b> int64</label>"
            ]
          },
          "metadata": {},
          "execution_count": 16
        }
      ]
    },
    {
      "cell_type": "code",
      "source": [
        "df.info()"
      ],
      "metadata": {
        "colab": {
          "base_uri": "https://localhost:8080/"
        },
        "id": "ISPaX7OkytQZ",
        "outputId": "971029b9-bd80-45c9-b761-1c093798f3d4"
      },
      "execution_count": 17,
      "outputs": [
        {
          "output_type": "stream",
          "name": "stdout",
          "text": [
            "<class 'pandas.core.frame.DataFrame'>\n",
            "RangeIndex: 5000 entries, 0 to 4999\n",
            "Data columns (total 19 columns):\n",
            " #   Column                Non-Null Count  Dtype  \n",
            "---  ------                --------------  -----  \n",
            " 0   candidate_skills      5000 non-null   object \n",
            " 1   years_experience      5000 non-null   int64  \n",
            " 2   education_level       5000 non-null   object \n",
            " 3   past_job_titles       5000 non-null   object \n",
            " 4   certifications        5000 non-null   object \n",
            " 5   expected_salary       5000 non-null   int64  \n",
            " 6   candidate_location    5000 non-null   object \n",
            " 7   job_title             5000 non-null   object \n",
            " 8   required_skills       5000 non-null   object \n",
            " 9   min_experience        5000 non-null   int64  \n",
            " 10  job_description       5000 non-null   object \n",
            " 11  budgeted_salary_min   5000 non-null   int64  \n",
            " 12  budgeted_salary_max   5000 non-null   int64  \n",
            " 13  job_location          5000 non-null   object \n",
            " 14  is_fit                5000 non-null   int64  \n",
            " 15  candidate_skills_set  5000 non-null   object \n",
            " 16  required_skills_set   5000 non-null   object \n",
            " 17  skill_match           5000 non-null   float64\n",
            " 18  experience_diff       5000 non-null   int64  \n",
            "dtypes: float64(1), int64(7), object(11)\n",
            "memory usage: 742.3+ KB\n"
          ]
        }
      ]
    },
    {
      "cell_type": "code",
      "source": [
        "# salary features..\n",
        "df['salary_within_range'] = df.apply(lambda x: 1 if x['budgeted_salary_min'] <= x['expected_salary'] <= x['budgeted_salary_max'] else 0, axis=1)"
      ],
      "metadata": {
        "id": "NplOAmbVytOn"
      },
      "execution_count": 18,
      "outputs": []
    },
    {
      "cell_type": "code",
      "source": [
        "df['salary_diff'] = abs(df['expected_salary'] - (df['budgeted_salary_min'] + df['budgeted_salary_max']) / 2)"
      ],
      "metadata": {
        "id": "9oAEEVZP1VN3"
      },
      "execution_count": 19,
      "outputs": []
    },
    {
      "cell_type": "code",
      "source": [
        "# location match..\n",
        "df['location_match'] = (df['candidate_location'].str.lower() == df['job_location'].str.lower()).astype(int)"
      ],
      "metadata": {
        "id": "5Lw9m1ITytK6"
      },
      "execution_count": 20,
      "outputs": []
    },
    {
      "cell_type": "code",
      "source": [
        "edu_encode = {'High School': 0, \"Bachelor's\": 1, \"Master's\": 2, 'PhD': 3}\n",
        "df['education_level_encoded'] = df['education_level'].map(edu_encode)"
      ],
      "metadata": {
        "id": "9T7ov9qj0h6o"
      },
      "execution_count": 21,
      "outputs": []
    },
    {
      "cell_type": "code",
      "source": [
        "# drop unused columns..\n",
        "df.drop(columns=['candidate_skills_set', 'required_skills_set'], inplace=True)"
      ],
      "metadata": {
        "id": "6cpMKU7j0h4b"
      },
      "execution_count": 22,
      "outputs": []
    },
    {
      "cell_type": "code",
      "source": [
        "df.info()"
      ],
      "metadata": {
        "colab": {
          "base_uri": "https://localhost:8080/"
        },
        "id": "_RF48aKa0h1M",
        "outputId": "f8c4c1b8-6b3a-4ddc-9f1d-cd00fa2e9888"
      },
      "execution_count": 23,
      "outputs": [
        {
          "output_type": "stream",
          "name": "stdout",
          "text": [
            "<class 'pandas.core.frame.DataFrame'>\n",
            "RangeIndex: 5000 entries, 0 to 4999\n",
            "Data columns (total 21 columns):\n",
            " #   Column                   Non-Null Count  Dtype  \n",
            "---  ------                   --------------  -----  \n",
            " 0   candidate_skills         5000 non-null   object \n",
            " 1   years_experience         5000 non-null   int64  \n",
            " 2   education_level          5000 non-null   object \n",
            " 3   past_job_titles          5000 non-null   object \n",
            " 4   certifications           5000 non-null   object \n",
            " 5   expected_salary          5000 non-null   int64  \n",
            " 6   candidate_location       5000 non-null   object \n",
            " 7   job_title                5000 non-null   object \n",
            " 8   required_skills          5000 non-null   object \n",
            " 9   min_experience           5000 non-null   int64  \n",
            " 10  job_description          5000 non-null   object \n",
            " 11  budgeted_salary_min      5000 non-null   int64  \n",
            " 12  budgeted_salary_max      5000 non-null   int64  \n",
            " 13  job_location             5000 non-null   object \n",
            " 14  is_fit                   5000 non-null   int64  \n",
            " 15  skill_match              5000 non-null   float64\n",
            " 16  experience_diff          5000 non-null   int64  \n",
            " 17  salary_within_range      5000 non-null   int64  \n",
            " 18  salary_diff              5000 non-null   float64\n",
            " 19  location_match           5000 non-null   int64  \n",
            " 20  education_level_encoded  5000 non-null   int64  \n",
            "dtypes: float64(2), int64(10), object(9)\n",
            "memory usage: 820.4+ KB\n"
          ]
        }
      ]
    },
    {
      "cell_type": "code",
      "source": [
        "df[\"education_level\"].nunique()"
      ],
      "metadata": {
        "colab": {
          "base_uri": "https://localhost:8080/"
        },
        "id": "eFXvkvVz0hxt",
        "outputId": "d7c80dd9-70fc-446a-eb96-5d3301429ac5"
      },
      "execution_count": 24,
      "outputs": [
        {
          "output_type": "execute_result",
          "data": {
            "text/plain": [
              "4"
            ]
          },
          "metadata": {},
          "execution_count": 24
        }
      ]
    },
    {
      "cell_type": "markdown",
      "source": [
        "prepare target features col.."
      ],
      "metadata": {
        "id": "iU_aEI1w28rj"
      }
    },
    {
      "cell_type": "code",
      "source": [
        "features = ['skill_match', 'experience_diff', 'salary_within_range', 'salary_diff', 'location_match', 'education_level_encoded']\n",
        "X = df[features]\n",
        "y = df['is_fit']"
      ],
      "metadata": {
        "id": "vLzUvmAe0hvU"
      },
      "execution_count": 25,
      "outputs": []
    },
    {
      "cell_type": "markdown",
      "source": [
        "Train, Test split data"
      ],
      "metadata": {
        "id": "kmqdFucy3oPG"
      }
    },
    {
      "cell_type": "code",
      "source": [
        "X_train, X_test, y_train, y_test = train_test_split(X, y, stratify=y, test_size=0.2, random_state=42)"
      ],
      "metadata": {
        "id": "PKjwbcQn3NCv"
      },
      "execution_count": 26,
      "outputs": []
    },
    {
      "cell_type": "markdown",
      "source": [
        "# XGBoost model..\n"
      ],
      "metadata": {
        "id": "8diLusKQ3tf7"
      }
    },
    {
      "cell_type": "code",
      "source": [
        "xgb_model = XGBClassifier()\n",
        "xgb_model.fit(X_train, y_train)\n",
        "xgb_preds = xgb_model.predict(X_test)\n",
        "\n",
        "print(\"XGBoost Results:\\n\", classification_report(y_test, xgb_preds))"
      ],
      "metadata": {
        "colab": {
          "base_uri": "https://localhost:8080/"
        },
        "id": "tiuQ-oUc3Hul",
        "outputId": "5b927074-1c59-431c-fe59-ac1b231b12e1"
      },
      "execution_count": 27,
      "outputs": [
        {
          "output_type": "stream",
          "name": "stdout",
          "text": [
            "XGBoost Results:\n",
            "               precision    recall  f1-score   support\n",
            "\n",
            "           0       0.99      0.99      0.99       961\n",
            "           1       0.79      0.67      0.72        39\n",
            "\n",
            "    accuracy                           0.98      1000\n",
            "   macro avg       0.89      0.83      0.86      1000\n",
            "weighted avg       0.98      0.98      0.98      1000\n",
            "\n"
          ]
        }
      ]
    },
    {
      "cell_type": "code",
      "source": [
        "explainer = shap.Explainer(xgb_model)\n",
        "shap_values = explainer(X_test)\n",
        "shap.summary_plot(shap_values, X_test, plot_type=\"bar\")"
      ],
      "metadata": {
        "colab": {
          "base_uri": "https://localhost:8080/",
          "height": 397
        },
        "id": "NEE8AoaH303G",
        "outputId": "3ff3fe2a-fbe6-484c-933c-f9f6d472e516"
      },
      "execution_count": 28,
      "outputs": [
        {
          "output_type": "display_data",
          "data": {
            "text/plain": [
              "<Figure size 800x390 with 1 Axes>"
            ],
            "image/png": "[encoded data removed]"
          },
          "metadata": {}
        }
      ]
    },
    {
      "cell_type": "markdown",
      "source": [
        "# Logistic Regression model.."
      ],
      "metadata": {
        "id": "8ax6CqNChlEh"
      }
    },
    {
      "cell_type": "code",
      "source": [
        "model = SentenceTransformer('all-MiniLM-L6-v2')"
      ],
      "metadata": {
        "colab": {
          "base_uri": "https://localhost:8080/"
        },
        "id": "5VlpslGg_fvD",
        "outputId": "e9bff308-f84a-43b8-d222-143a7e962993"
      },
      "execution_count": 29,
      "outputs": [
        {
          "output_type": "stream",
          "name": "stderr",
          "text": [
            "/usr/local/lib/python3.11/dist-packages/huggingface_hub/utils/_auth.py:94: UserWarning: \n",
            "The secret `HF_TOKEN` does not exist in your Colab secrets.\n",
            "To authenticate with the Hugging Face Hub, create a token in your settings tab (https://huggingface.co/settings/tokens), set it as secret in your Google Colab and restart your session.\n",
            "You will be able to reuse this secret in all of your notebooks.\n",
            "Please note that authentication is recommended but still optional to access public models or datasets.\n",
            "  warnings.warn(\n"
          ]
        }
      ]
    },
    {
      "cell_type": "code",
      "source": [
        "def build_candidate_summary(row):\n",
        "    return (\n",
        "        f\"Candidate has {row['years_experience']} years of experience, \"\n",
        "        f\"has held job titles such as {row['past_job_titles']}, \"\n",
        "        f\"has skills: {row['candidate_skills']}, \"\n",
        "        f\"expects a salary of {row['expected_salary']}, \"\n",
        "        f\"is located in {row['candidate_location']}, \"\n",
        "        f\"and has an education level of {row['education_level']}.\"\n",
        "    )"
      ],
      "metadata": {
        "id": "sweDtaEHBVV5"
      },
      "execution_count": 30,
      "outputs": []
    },
    {
      "cell_type": "code",
      "source": [
        "df['candidate_summary'] = df.apply(build_candidate_summary, axis=1)"
      ],
      "metadata": {
        "id": "XEVUraEsC70U"
      },
      "execution_count": 31,
      "outputs": []
    },
    {
      "cell_type": "code",
      "source": [
        "def combine_text(row):\n",
        "    return f\"Job: {row['job_description']} Candidate: {row['candidate_summary']}\""
      ],
      "metadata": {
        "id": "gej_YctxBXHO"
      },
      "execution_count": 32,
      "outputs": []
    },
    {
      "cell_type": "code",
      "source": [
        "df['combined_text'] = df.apply(combine_text, axis=1)"
      ],
      "metadata": {
        "id": "2_xmcR4dBhvs"
      },
      "execution_count": 33,
      "outputs": []
    },
    {
      "cell_type": "code",
      "source": [
        "embeddings = model.encode(df['combined_text'].tolist(), show_progress_bar=True)\n",
        "X_emb = np.array(embeddings)\n",
        "y_emb = df['is_fit']\n",
        "\n",
        "X_train_emb, X_test_emb, y_train_emb, y_test_emb = train_test_split(\n",
        "    X_emb, y_emb, stratify=y_emb, test_size=0.2, random_state=42\n",
        ")\n",
        "\n",
        "X_train, X_test, y_train, y_test = train_test_split(X, y, stratify=y, test_size=0.2, random_state=42)\n",
        "\n",
        "#train classifier\n",
        "clf = LogisticRegression(max_iter=1000)\n",
        "clf.fit(X_train_emb, y_train_emb)\n",
        "\n",
        "y_pred_emb = clf.predict(X_test_emb)\n",
        "print(\"Logistic Regression:\\n\", classification_report(y_test_emb, y_pred_emb))"
      ],
      "metadata": {
        "colab": {
          "base_uri": "https://localhost:8080/",
          "height": 375,
          "referenced_widgets": [
            "dc06a77f626145c2a76ddfe5707a6c90",
            "77a45b1d81544c7bb99b3b90283b915b",
            "ee630e6b423544d99a4e9a452c93da77",
            "d19e56792c884639a078867b1236c5ed",
            "98d52f861c6b4115a52e5e7bbe260510",
            "1e0995b3a3a54275bafabf5c7ddeae0a",
            "5ec999e2736d47449cedf2ece6abdb0e",
            "d0d276045faf47189a1ed9628674927b",
            "2d65c536818348018c3a43dafa50143f",
            "e48bdb990c134da5891f761cf8c00835",
            "3679d9d190d648fbbb6c92f79ec46a13"
          ]
        },
        "id": "OiWcByB__frM",
        "outputId": "badeda9a-5204-4968-def3-adc1862c8fe5"
      },
      "execution_count": 34,
      "outputs": [
        {
          "output_type": "display_data",
          "data": {
            "text/plain": [
              "Batches:   0%|          | 0/157 [00:00<?, ?it/s]"
            ],
            "application/vnd.jupyter.widget-view+json": {
              "version_major": 2,
              "version_minor": 0,
              "model_id": "dc06a77f626145c2a76ddfe5707a6c90"
            }
          },
          "metadata": {}
        },
        {
          "output_type": "stream",
          "name": "stdout",
          "text": [
            "Logistic Regression:\n",
            "               precision    recall  f1-score   support\n",
            "\n",
            "           0       0.96      1.00      0.98       961\n",
            "           1       0.00      0.00      0.00        39\n",
            "\n",
            "    accuracy                           0.96      1000\n",
            "   macro avg       0.48      0.50      0.49      1000\n",
            "weighted avg       0.92      0.96      0.94      1000\n",
            "\n"
          ]
        },
        {
          "output_type": "stream",
          "name": "stderr",
          "text": [
            "/usr/local/lib/python3.11/dist-packages/sklearn/metrics/_classification.py:1565: UndefinedMetricWarning: Precision is ill-defined and being set to 0.0 in labels with no predicted samples. Use `zero_division` parameter to control this behavior.\n",
            "  _warn_prf(average, modifier, f\"{metric.capitalize()} is\", len(result))\n",
            "/usr/local/lib/python3.11/dist-packages/sklearn/metrics/_classification.py:1565: UndefinedMetricWarning: Precision is ill-defined and being set to 0.0 in labels with no predicted samples. Use `zero_division` parameter to control this behavior.\n",
            "  _warn_prf(average, modifier, f\"{metric.capitalize()} is\", len(result))\n",
            "/usr/local/lib/python3.11/dist-packages/sklearn/metrics/_classification.py:1565: UndefinedMetricWarning: Precision is ill-defined and being set to 0.0 in labels with no predicted samples. Use `zero_division` parameter to control this behavior.\n",
            "  _warn_prf(average, modifier, f\"{metric.capitalize()} is\", len(result))\n"
          ]
        }
      ]
    },
    {
      "cell_type": "code",
      "source": [],
      "metadata": {
        "id": "tfSbZfDnABp3"
      },
      "execution_count": null,
      "outputs": []
    },
    {
      "cell_type": "markdown",
      "source": [
        "# Random Forest.."
      ],
      "metadata": {
        "id": "_VBNftqHEHhG"
      }
    },
    {
      "cell_type": "code",
      "source": [
        "# Random Forest\n",
        "rf_model = RandomForestClassifier()\n",
        "rf_model.fit(X_train, y_train)\n",
        "rf_preds = rf_model.predict(X_test)\n",
        "\n",
        "print(\"Random Forest Results:\\n\", classification_report(y_test, rf_preds))"
      ],
      "metadata": {
        "colab": {
          "base_uri": "https://localhost:8080/"
        },
        "id": "YP-o3pM9Yf_G",
        "outputId": "20c023a0-f630-467e-d279-ddbd49325faf"
      },
      "execution_count": 36,
      "outputs": [
        {
          "output_type": "stream",
          "name": "stdout",
          "text": [
            "Random Forest Results:\n",
            "               precision    recall  f1-score   support\n",
            "\n",
            "           0       0.99      1.00      0.99       961\n",
            "           1       0.93      0.67      0.78        39\n",
            "\n",
            "    accuracy                           0.98      1000\n",
            "   macro avg       0.96      0.83      0.88      1000\n",
            "weighted avg       0.98      0.98      0.98      1000\n",
            "\n"
          ]
        }
      ]
    },
    {
      "cell_type": "code",
      "source": [
        "df.info()"
      ],
      "metadata": {
        "colab": {
          "base_uri": "https://localhost:8080/"
        },
        "id": "pjBwZ9AVas4h",
        "outputId": "cdb69d48-db30-4360-979c-b17188daa342"
      },
      "execution_count": 37,
      "outputs": [
        {
          "output_type": "stream",
          "name": "stdout",
          "text": [
            "<class 'pandas.core.frame.DataFrame'>\n",
            "RangeIndex: 5000 entries, 0 to 4999\n",
            "Data columns (total 23 columns):\n",
            " #   Column                   Non-Null Count  Dtype  \n",
            "---  ------                   --------------  -----  \n",
            " 0   candidate_skills         5000 non-null   object \n",
            " 1   years_experience         5000 non-null   int64  \n",
            " 2   education_level          5000 non-null   object \n",
            " 3   past_job_titles          5000 non-null   object \n",
            " 4   certifications           5000 non-null   object \n",
            " 5   expected_salary          5000 non-null   int64  \n",
            " 6   candidate_location       5000 non-null   object \n",
            " 7   job_title                5000 non-null   object \n",
            " 8   required_skills          5000 non-null   object \n",
            " 9   min_experience           5000 non-null   int64  \n",
            " 10  job_description          5000 non-null   object \n",
            " 11  budgeted_salary_min      5000 non-null   int64  \n",
            " 12  budgeted_salary_max      5000 non-null   int64  \n",
            " 13  job_location             5000 non-null   object \n",
            " 14  is_fit                   5000 non-null   int64  \n",
            " 15  skill_match              5000 non-null   float64\n",
            " 16  experience_diff          5000 non-null   int64  \n",
            " 17  salary_within_range      5000 non-null   int64  \n",
            " 18  salary_diff              5000 non-null   float64\n",
            " 19  location_match           5000 non-null   int64  \n",
            " 20  education_level_encoded  5000 non-null   int64  \n",
            " 21  candidate_summary        5000 non-null   object \n",
            " 22  combined_text            5000 non-null   object \n",
            "dtypes: float64(2), int64(10), object(11)\n",
            "memory usage: 898.6+ KB\n"
          ]
        }
      ]
    },
    {
      "cell_type": "code",
      "source": [],
      "metadata": {
        "id": "L-O4DFCiDgHk"
      },
      "execution_count": null,
      "outputs": []
    }
  ]
}